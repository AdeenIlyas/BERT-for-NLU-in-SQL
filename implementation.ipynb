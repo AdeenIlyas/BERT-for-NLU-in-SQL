{
 "cells": [
  {
   "cell_type": "code",
   "execution_count": 1,
   "metadata": {},
   "outputs": [],
   "source": [
    "from sklearn.feature_extraction.text import TfidfVectorizer\n",
    "from sklearn.metrics.pairwise import cosine_similarity\n",
    "import psycopg2\n",
    "import pandas as pd "
   ]
  },
  {
   "cell_type": "markdown",
   "metadata": {},
   "source": [
    "### Storing Data in PostGreSQl"
   ]
  },
  {
   "cell_type": "code",
   "execution_count": 2,
   "metadata": {},
   "outputs": [
    {
     "name": "stdout",
     "output_type": "stream",
     "text": [
      "   ss_sold_date_sk  ss_sold_time_sk  ss_item_sk  ss_customer_sk  ss_cdemo_sk  \\\n",
      "0        2451813.0          65495.0        3617         67006.0     591617.0   \n",
      "1        2451813.0          65495.0       13283         67006.0     591617.0   \n",
      "2        2451813.0          65495.0       13631         67006.0     591617.0   \n",
      "3        2451813.0          65495.0        5981         67006.0     591617.0   \n",
      "4        2451813.0          65495.0        4553         67006.0     591617.0   \n",
      "\n",
      "   ss_hdemo_sk  ss_addr_sk  ss_store_sk  ss_promo_sk  ss_ticket_number  ...  \\\n",
      "0       3428.0     24839.0         10.0        161.0                 1  ...   \n",
      "1       3428.0     24839.0         10.0        154.0                 1  ...   \n",
      "2       3428.0     24839.0         10.0        172.0                 1  ...   \n",
      "3       3428.0     24839.0         10.0        280.0                 1  ...   \n",
      "4       3428.0     24839.0         10.0        236.0                 1  ...   \n",
      "\n",
      "   ss_sales_price  ss_ext_discount_amt  ss_ext_sales_price  \\\n",
      "0            2.80                99.54              221.20   \n",
      "1           41.47                46.03             1534.39   \n",
      "2           83.98                 0.00             8314.02   \n",
      "3            6.10                 0.00               85.40   \n",
      "4            0.73                 0.00               73.00   \n",
      "\n",
      "   ss_ext_wholesale_cost  ss_ext_list_price  ss_ext_tax  ss_coupon_amt  \\\n",
      "0                 901.39            1478.09        6.08          99.54   \n",
      "1                2354.31            3743.29       59.53          46.03   \n",
      "2                7971.48           13630.32        0.00           0.00   \n",
      "3                 803.18            1068.20        0.00           0.00   \n",
      "4                2508.00            3686.00        6.57           0.00   \n",
      "\n",
      "   ss_net_paid  ss_net_paid_inc_tax  ss_net_profit  \n",
      "0       121.66               127.74        -779.73  \n",
      "1      1488.36              1547.89        -865.95  \n",
      "2      8314.02              8314.02         342.54  \n",
      "3        85.40                85.40        -717.78  \n",
      "4        73.00                79.57       -2435.00  \n",
      "\n",
      "[5 rows x 23 columns]\n"
     ]
    },
    {
     "name": "stderr",
     "output_type": "stream",
     "text": [
      "C:\\Users\\dell\\AppData\\Local\\Temp\\ipykernel_19568\\1016413625.py:7: UserWarning: pandas only supports SQLAlchemy connectable (engine/connection) or database string URI or sqlite3 DBAPI2 connection. Other DBAPI2 objects are not tested. Please consider using SQLAlchemy.\n",
      "  df = pd.read_sql(query, conn)\n"
     ]
    }
   ],
   "source": [
    "conn = psycopg2.connect(\n",
    "    dbname=\"tpc_ds\", user=\"postgres\", password=\"password\", host=\"localhost\", port=\"5432\"\n",
    ")\n",
    "cur = conn.cursor()\n",
    "\n",
    "query = \"SELECT * FROM store_sales LIMIT 100;\"  \n",
    "df = pd.read_sql(query, conn)\n",
    "\n",
    "print(df.head())\n",
    "\n",
    "cur.close()\n",
    "conn.close()\n"
   ]
  },
  {
   "cell_type": "markdown",
   "metadata": {},
   "source": [
    "### Schema Matching with BERT using Cosine Similarity "
   ]
  },
  {
   "cell_type": "code",
   "execution_count": 3,
   "metadata": {},
   "outputs": [
    {
     "name": "stderr",
     "output_type": "stream",
     "text": [
      "c:\\Users\\dell\\Desktop\\ml_env\\lib\\site-packages\\tqdm\\auto.py:21: TqdmWarning: IProgress not found. Please update jupyter and ipywidgets. See https://ipywidgets.readthedocs.io/en/stable/user_install.html\n",
      "  from .autonotebook import tqdm as notebook_tqdm\n"
     ]
    },
    {
     "name": "stdout",
     "output_type": "stream",
     "text": [
      "tensor([0.8836, 0.8838, 0.8711, 0.8495, 0.7860, 0.8144, 0.7991, 0.8632, 0.8617,\n",
      "        0.9102, 0.8277, 0.9480, 0.9385, 0.9437, 0.7837, 0.7847, 0.7836, 0.8940,\n",
      "        0.8889, 0.8721, 0.9511, 0.9206, 0.9259])\n"
     ]
    }
   ],
   "source": [
    "current_schema = [\n",
    "    'ss_sold_date_sk', 'ss_sold_time_sk', 'ss_item_sk', 'ss_customer_sk', 'ss_cdemo_sk',\n",
    "    'ss_hdemo_sk', 'ss_addr_sk', 'ss_store_sk', 'ss_promo_sk', 'ss_ticket_number', 'ss_quantity',\n",
    "    'ss_wholesale_cost', 'ss_list_price', 'ss_sales_price', 'ss_ext_discount_amt', 'ss_ext_sales_price',\n",
    "    'ss_ext_wholesale_cost', 'ss_ext_list_price', 'ss_ext_tax', 'ss_coupon_amt', 'ss_net_paid',\n",
    "    'ss_net_paid_inc_tax', 'ss_net_profit'\n",
    "]\n",
    "\n",
    "simulated_schema = [\n",
    "    'sold_date', 'sold_time', 'item_id', 'customer_id', 'customer_demo_id', 'household_demo_id',\n",
    "    'address_id', 'store_id', 'promo_id', 'ticket_number', 'quantity_sold', 'wholesale_cost',\n",
    "    'list_price', 'sales_price', 'discount_amount', 'total_sales', 'wholesale_total', 'list_price_total',\n",
    "    'total_tax', 'coupon_amount', 'net_paid', 'net_paid_with_tax', 'net_profit'\n",
    "]\n",
    "\n",
    "from transformers import BertTokenizer, BertModel\n",
    "import torch\n",
    "\n",
    "tokenizer = BertTokenizer.from_pretrained('bert-base-uncased')\n",
    "model = BertModel.from_pretrained('bert-base-uncased')\n",
    "\n",
    "def encode_columns(columns):\n",
    "    inputs = tokenizer(columns, return_tensors=\"pt\", padding=True, truncation=True)\n",
    "    with torch.no_grad():\n",
    "        outputs = model(**inputs)\n",
    "    return outputs.last_hidden_state.mean(dim=1)  \n",
    "\n",
    "# Encode both schemas\n",
    "current_schema_embeddings = encode_columns(current_schema)\n",
    "simulated_schema_embeddings = encode_columns(simulated_schema)\n",
    "\n",
    "# Compute cosine similarity on the embeddings\n",
    "cosine_sim = torch.nn.functional.cosine_similarity(current_schema_embeddings, simulated_schema_embeddings)\n",
    "\n",
    "print(cosine_sim)\n"
   ]
  },
  {
   "cell_type": "markdown",
   "metadata": {},
   "source": [
    "### Query Optimization using BERT"
   ]
  },
  {
   "cell_type": "code",
   "execution_count": 4,
   "metadata": {},
   "outputs": [
    {
     "name": "stdout",
     "output_type": "stream",
     "text": [
      "Execution Time - Before Optimization: 6.02s\n",
      "Execution Time - After Optimization: 1.37s\n"
     ]
    }
   ],
   "source": [
    "import time\n",
    "import psycopg2\n",
    "from transformers import BertTokenizer, BertModel\n",
    "import torch\n",
    "\n",
    "\n",
    "tokenizer = BertTokenizer.from_pretrained('bert-base-uncased')\n",
    "model = BertModel.from_pretrained('bert-base-uncased')\n",
    "\n",
    "# encode columns using BERT\n",
    "def encode_columns(columns):\n",
    "    inputs = tokenizer(columns, return_tensors=\"pt\", padding=True, truncation=True)\n",
    "    with torch.no_grad():\n",
    "        outputs = model(**inputs)\n",
    "    return outputs.last_hidden_state.mean(dim=1)\n",
    "\n",
    "# Query optimization \n",
    "def optimize_query_with_bert(natural_language_query, schema_embeddings, current_schema):\n",
    "    query_embedding = encode_columns([natural_language_query])  # embedding of the query\n",
    "    similarities = torch.nn.functional.cosine_similarity(query_embedding, schema_embeddings)  # Match with schema\n",
    "    best_match_index = similarities.argmax()\n",
    "    \n",
    "    optimized_column = current_schema[best_match_index.item()]  # Get the actual column name based on similarity \n",
    "    optimized_query = f\"SELECT {optimized_column} FROM store_sales WHERE ss_sales_price > 100\"\n",
    "    return optimized_query\n",
    "\n",
    "# measure execution time for queries\n",
    "def measure_execution_time(query):\n",
    "    conn = psycopg2.connect(\n",
    "        dbname=\"tpc_ds\", user=\"postgres\", password=\"password\", host=\"localhost\", port=\"5432\"\n",
    "    )\n",
    "    start_time = time.time()\n",
    "    with conn.cursor() as cur:\n",
    "        cur.execute(query)\n",
    "    execution_time = time.time() - start_time\n",
    "    conn.close()\n",
    "    return execution_time\n",
    "\n",
    "# Run the query without optimization\n",
    "query = \"SELECT * FROM store_sales WHERE ss_sales_price > 100\"\n",
    "time_before = measure_execution_time(query)\n",
    "\n",
    "# Now optimize the query with BERT and run it\n",
    "schema_embeddings = encode_columns(current_schema)  # Embedding for schema\n",
    "optimized_query = optimize_query_with_bert(\"Get all sales with price > 100\", schema_embeddings, current_schema)\n",
    "time_after = measure_execution_time(optimized_query)\n",
    "\n",
    "# Print the execution times\n",
    "print(f\"Execution Time - Before Optimization: {time_before:.2f}s\")\n",
    "print(f\"Execution Time - After Optimization: {time_after:.2f}s\")\n"
   ]
  },
  {
   "cell_type": "markdown",
   "metadata": {},
   "source": [
    "### Defined Threshold to ensure correct mapping of differnt Schema's "
   ]
  },
  {
   "cell_type": "code",
   "execution_count": 5,
   "metadata": {},
   "outputs": [
    {
     "name": "stdout",
     "output_type": "stream",
     "text": [
      "Schema Matches: {'ss_sold_date_sk': 'sold_date', 'ss_sold_time_sk': 'sold_time', 'ss_item_sk': 'item_id', 'ss_customer_sk': 'customer_id', 'ss_cdemo_sk': 'customer_demo_id', 'ss_hdemo_sk': 'household_demo_id', 'ss_addr_sk': 'address_id', 'ss_store_sk': 'store_id', 'ss_promo_sk': 'promo_id', 'ss_ticket_number': 'ticket_number', 'ss_quantity': 'quantity_sold', 'ss_wholesale_cost': 'wholesale_cost', 'ss_list_price': 'list_price', 'ss_sales_price': 'sales_price', 'ss_ext_discount_amt': 'discount_amount', 'ss_ext_sales_price': 'total_sales', 'ss_ext_wholesale_cost': 'wholesale_total', 'ss_ext_list_price': 'list_price_total', 'ss_ext_tax': 'total_tax', 'ss_coupon_amt': 'coupon_amount', 'ss_net_paid': 'net_paid', 'ss_net_paid_inc_tax': 'net_paid_with_tax', 'ss_net_profit': 'net_profit'}\n"
     ]
    }
   ],
   "source": [
    "threshold = 0.7 \n",
    "matches = {}\n",
    "\n",
    "for i, sim_score in enumerate(cosine_sim):\n",
    "    if sim_score >= threshold:\n",
    "        matches[current_schema[i]] = simulated_schema[i]\n",
    "\n",
    "print(\"Schema Matches:\", matches)\n"
   ]
  },
  {
   "cell_type": "markdown",
   "metadata": {},
   "source": [
    "###  Clustering to group similar schemas"
   ]
  },
  {
   "cell_type": "code",
   "execution_count": 6,
   "metadata": {},
   "outputs": [
    {
     "data": {
      "image/png": "[encoded data removed]",
      "text/plain": [
       "<Figure size 1000x600 with 1 Axes>"
      ]
     },
     "metadata": {},
     "output_type": "display_data"
    },
    {
     "name": "stdout",
     "output_type": "stream",
     "text": [
      "Optimal number of clusters based on Silhouette Score: 9\n",
      "Cluster 0: ['item_id', 'customer_id', 'customer_demo_id', 'household_demo_id', 'address_id', 'store_id', 'promo_id']\n",
      "Cluster 1: ['ss_ext_discount_amt', 'ss_ext_sales_price', 'ss_ext_wholesale_cost', 'ss_ext_list_price', 'ss_coupon_amt']\n",
      "Cluster 2: ['ss_wholesale_cost', 'ss_list_price', 'ss_sales_price', 'sold_date', 'sold_time', 'quantity_sold', 'wholesale_cost', 'list_price', 'sales_price', 'discount_amount', 'total_sales', 'wholesale_total', 'list_price_total', 'coupon_amount']\n",
      "Cluster 3: ['ss_sold_date_sk', 'ss_sold_time_sk', 'ss_item_sk', 'ss_customer_sk', 'ss_cdemo_sk', 'ss_hdemo_sk', 'ss_addr_sk', 'ss_store_sk', 'ss_promo_sk']\n",
      "Cluster 4: ['ss_ext_tax', 'total_tax']\n",
      "Cluster 5: ['ss_ticket_number', 'ticket_number']\n",
      "Cluster 6: ['ss_net_paid_inc_tax', 'net_paid_with_tax']\n",
      "Cluster 7: ['ss_quantity']\n",
      "Cluster 8: ['ss_net_paid', 'ss_net_profit', 'net_paid', 'net_profit']\n"
     ]
    }
   ],
   "source": [
    "from sklearn.metrics.pairwise import cosine_similarity\n",
    "from sklearn.cluster import AgglomerativeClustering\n",
    "from sklearn.metrics import silhouette_score\n",
    "import matplotlib.pyplot as plt\n",
    "import numpy as np\n",
    "\n",
    "combined_embeddings = torch.cat((current_schema_embeddings, simulated_schema_embeddings), dim=0).numpy()\n",
    "\n",
    "silhouette_scores = []\n",
    "range_n_clusters = range(2, 10)  \n",
    "\n",
    "for n_clusters in range_n_clusters:\n",
    "    clustering = AgglomerativeClustering(n_clusters=n_clusters, linkage='average', metric='euclidean')\n",
    "    cluster_labels = clustering.fit_predict(combined_embeddings)  # Use the raw embeddings directly\n",
    "    silhouette_avg = silhouette_score(combined_embeddings, cluster_labels, metric='euclidean')\n",
    "    silhouette_scores.append(silhouette_avg)\n",
    "\n",
    "plt.figure(figsize=(10, 6))\n",
    "plt.plot(range_n_clusters, silhouette_scores, marker='o', linestyle='-', color='b')\n",
    "plt.title('Silhouette Scores for Optimal Number of Clusters')\n",
    "plt.xlabel('Number of Clusters')\n",
    "plt.ylabel('Silhouette Score')\n",
    "plt.grid(True)\n",
    "plt.show()\n",
    "\n",
    "optimal_clusters = range_n_clusters[np.argmax(silhouette_scores)]\n",
    "print(f\"Optimal number of clusters based on Silhouette Score: {optimal_clusters}\")\n",
    "\n",
    "final_clustering = AgglomerativeClustering(n_clusters=optimal_clusters, linkage='average', metric='euclidean')\n",
    "final_labels = final_clustering.fit_predict(combined_embeddings)\n",
    "\n",
    "for cluster_id in np.unique(final_labels):\n",
    "    cluster_columns = [current_schema[i] if i < len(current_schema) else simulated_schema[i - len(current_schema)] \n",
    "                       for i in range(len(final_labels)) if final_labels[i] == cluster_id]\n",
    "    print(f\"Cluster {cluster_id}: {cluster_columns}\")\n"
   ]
  },
  {
   "cell_type": "markdown",
   "metadata": {},
   "source": [
    "### Dynamic Model Updates if schema changes"
   ]
  },
  {
   "cell_type": "code",
   "execution_count": 7,
   "metadata": {},
   "outputs": [
    {
     "name": "stdout",
     "output_type": "stream",
     "text": [
      "No schema changes detected.\n"
     ]
    }
   ],
   "source": [
    "def track_schema_changes():\n",
    "    conn = psycopg2.connect(\n",
    "        dbname=\"tpc_ds\", user=\"postgres\", password=\"password\", host=\"localhost\", port=\"5432\"\n",
    "    )\n",
    "    query = \"\"\"\n",
    "        SELECT column_name FROM information_schema.columns\n",
    "        WHERE table_name = 'store_sales';\n",
    "    \"\"\"\n",
    "    with conn.cursor() as cur:\n",
    "        cur.execute(query)\n",
    "        updated_columns = [row[0] for row in cur.fetchall()]\n",
    "    conn.close()\n",
    "    return updated_columns\n",
    "\n",
    "# Update embeddings when schema changes\n",
    "def update_embeddings_if_needed():\n",
    "    updated_schema = track_schema_changes()\n",
    "    if set(updated_schema) != set(current_schema):\n",
    "        print(\"Schema updated, recalculating embeddings...\")\n",
    "        updated_embeddings = encode_columns(updated_schema)\n",
    "        return updated_embeddings\n",
    "    else:\n",
    "        print(\"No schema changes detected.\")\n",
    "        return current_schema_embeddings\n",
    "\n",
    "updated_embeddings = update_embeddings_if_needed()\n"
   ]
  },
  {
   "cell_type": "code",
   "execution_count": 8,
   "metadata": {},
   "outputs": [],
   "source": [
    "def encode_schema(schema):\n",
    "    inputs = tokenizer(schema, return_tensors=\"pt\", padding=True, truncation=True)\n",
    "    with torch.no_grad():\n",
    "        outputs = model(**inputs)\n",
    "    return outputs.last_hidden_state.mean(dim=1)\n",
    "\n",
    "schema_embeddings = encode_schema(current_schema)  \n"
   ]
  },
  {
   "cell_type": "markdown",
   "metadata": {},
   "source": [
    "### Function to Translate textual query to SQL"
   ]
  },
  {
   "cell_type": "code",
   "execution_count": 9,
   "metadata": {},
   "outputs": [],
   "source": [
    "def translate_query_to_sql(natural_language_query):\n",
    "    query_embedding = encode_schema([natural_language_query])  \n",
    "    similarities = torch.nn.functional.cosine_similarity(query_embedding, schema_embeddings)\n",
    "    matched_column_index = similarities.argmax()\n",
    "    \n",
    "    column_name = current_schema[matched_column_index]\n",
    "    sql_query = f\"SELECT {column_name} FROM store_sales WHERE {column_name} > 100\"\n",
    "    return sql_query\n"
   ]
  },
  {
   "cell_type": "code",
   "execution_count": 10,
   "metadata": {},
   "outputs": [],
   "source": [
    "# Execute the generated SQL query\n",
    "def execute_sql_query(sql_query):\n",
    "    conn = psycopg2.connect(\n",
    "        dbname=\"tpc_ds\", user=\"postgres\", password=\"password\", host=\"localhost\", port=\"5432\"\n",
    "    )\n",
    "    with conn.cursor() as cursor:\n",
    "        cursor.execute(sql_query)\n",
    "        results = cursor.fetchall()\n",
    "    conn.close()\n",
    "    return results\n"
   ]
  },
  {
   "cell_type": "code",
   "execution_count": 11,
   "metadata": {},
   "outputs": [],
   "source": [
    "import time\n",
    "\n",
    "def measure_execution_time(sql_query):\n",
    "    start_time = time.time()\n",
    "    results = execute_sql_query(sql_query)\n",
    "    execution_time = time.time() - start_time\n",
    "    return execution_time, results\n"
   ]
  },
  {
   "cell_type": "markdown",
   "metadata": {},
   "source": [
    "### Generate SQL query from text"
   ]
  },
  {
   "cell_type": "code",
   "execution_count": null,
   "metadata": {},
   "outputs": [
    {
     "name": "stdout",
     "output_type": "stream",
     "text": [
      "Generated SQL Query: SELECT ss_ext_sales_price FROM store_sales WHERE ss_ext_sales_price > 100\n"
     ]
    }
   ],
   "source": [
    "natural_language_query = \"Get all sales with price > 100\"\n",
    "\n",
    "sql_query = translate_query_to_sql(natural_language_query)\n",
    "print(\"Generated SQL Query:\", sql_query)\n",
    "\n",
    "# execution_time, results = measure_execution_time(sql_query)\n",
    "# print(f\"Execution Time: {execution_time:.2f} seconds\")\n",
    "# print(\"Query Results:\", results)\n"
   ]
  }
 ],
 "metadata": {
  "kernelspec": {
   "display_name": "ml_env",
   "language": "python",
   "name": "python3"
  },
  "language_info": {
   "codemirror_mode": {
    "name": "ipython",
    "version": 3
   },
   "file_extension": ".py",
   "mimetype": "text/x-python",
   "name": "python",
   "nbconvert_exporter": "python",
   "pygments_lexer": "ipython3",
   "version": "3.10.8"
  }
 },
 "nbformat": 4,
 "nbformat_minor": 2
}
